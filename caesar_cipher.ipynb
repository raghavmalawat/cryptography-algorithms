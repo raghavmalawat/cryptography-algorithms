{
 "cells": [
  {
   "cell_type": "markdown",
   "metadata": {},
   "source": [
    "# Caesar Cipher"
   ]
  },
  {
   "cell_type": "code",
   "execution_count": 1,
   "metadata": {},
   "outputs": [
    {
     "name": "stdout",
     "output_type": "stream",
     "text": [
      "{'a': 0, 'b': 1, 'c': 2, 'd': 3, 'e': 4, 'f': 5, 'g': 6, 'h': 7, 'i': 8, 'j': 9, 'k': 10, 'l': 11, 'm': 12, 'n': 13, 'o': 14, 'p': 15, 'q': 16, 'r': 17, 's': 18, 't': 19, 'u': 20, 'v': 21, 'w': 22, 'x': 23, 'y': 24, 'z': 25}\n",
      "\n",
      "{0: 'a', 1: 'b', 2: 'c', 3: 'd', 4: 'e', 5: 'f', 6: 'g', 7: 'h', 8: 'i', 9: 'j', 10: 'k', 11: 'l', 12: 'm', 13: 'n', 14: 'o', 15: 'p', 16: 'q', 17: 'r', 18: 's', 19: 't', 20: 'u', 21: 'v', 22: 'w', 23: 'x', 24: 'y', 25: 'z'}\n"
     ]
    }
   ],
   "source": [
    "alphabets = \"abcdefghijklmnopqrstuvwxyz\"\n",
    "alphabetToNumericDict = {alphabets[x]:x for x in range(26)}\n",
    "numericToAlphabetDict = {x:alphabets[x] for x in range(26)}\n",
    "\n",
    "print(alphabetToNumericDict)\n",
    "print()\n",
    "print(numericToAlphabetDict)"
   ]
  },
  {
   "cell_type": "markdown",
   "metadata": {},
   "source": [
    "# Encrypting function\n",
    "\n",
    "We return the cipher text after encrypting the message"
   ]
  },
  {
   "cell_type": "code",
   "execution_count": 2,
   "metadata": {},
   "outputs": [],
   "source": [
    "def caesar_encrypt(plainText, key):\n",
    "    plainText = plainText.lower()\n",
    "    key %= 26\n",
    "    cipherText = \"\"\n",
    "    \n",
    "    for letter in plainText:\n",
    "        if not letter.isalpha():\n",
    "            cipherText += letter\n",
    "            continue\n",
    "        cipherText += numericToAlphabetDict[(alphabetToNumericDict[letter]+key) % 26]\n",
    "    \n",
    "    return cipherText.upper()"
   ]
  },
  {
   "cell_type": "markdown",
   "metadata": {},
   "source": [
    "# Decrypting Function\n",
    "\n",
    "We return the original text after decrypting the message"
   ]
  },
  {
   "cell_type": "code",
   "execution_count": 3,
   "metadata": {},
   "outputs": [],
   "source": [
    "def caesar_decrypt(cipherText, key):\n",
    "    cipherText = cipherText.lower()\n",
    "    key %= 26\n",
    "    plainText = \"\"\n",
    "    \n",
    "    for letter in cipherText:\n",
    "        if not letter.isalpha():\n",
    "            plainText += letter\n",
    "            continue\n",
    "        plainText += numericToAlphabetDict[(alphabetToNumericDict[letter]-key) % 26]\n",
    "    \n",
    "    return plainText"
   ]
  },
  {
   "cell_type": "markdown",
   "metadata": {},
   "source": [
    "# Output"
   ]
  },
  {
   "cell_type": "code",
   "execution_count": 4,
   "metadata": {},
   "outputs": [
    {
     "name": "stdout",
     "output_type": "stream",
     "text": [
      "Message: Hello world!\n",
      "Secret Key: 5\n",
      "Encrypted Message: MJQQT BTWQI!\n",
      "Decrypted Message: hello world!\n"
     ]
    }
   ],
   "source": [
    "message = \"Hello world!\"\n",
    "key = 5\n",
    "\n",
    "print(\"Message:\", message)\n",
    "print(\"Secret Key:\", key)\n",
    "\n",
    "encryptedMessage = caesar_encrypt(message, key)\n",
    "print(\"Encrypted Message:\", encryptedMessage)\n",
    "\n",
    "decryptedMessage = caesar_decrypt(encryptedMessage, key)\n",
    "print(\"Decrypted Message:\", decryptedMessage)"
   ]
  },
  {
   "cell_type": "code",
   "execution_count": 5,
   "metadata": {},
   "outputs": [
    {
     "name": "stdout",
     "output_type": "stream",
     "text": [
      "Message: Lorem Ipsum 420!\n",
      "Secret Key: 9\n",
      "Encrypted Message: UXANV RYBDV 420!\n",
      "Decrypted Message: lorem ipsum 420!\n"
     ]
    }
   ],
   "source": [
    "message = \"Lorem Ipsum 420!\"\n",
    "key = 9\n",
    "\n",
    "print(\"Message:\", message)\n",
    "print(\"Secret Key:\", key)\n",
    "\n",
    "encryptedMessage = caesar_encrypt(message, key)\n",
    "print(\"Encrypted Message:\", encryptedMessage)\n",
    "\n",
    "decryptedMessage = caesar_decrypt(encryptedMessage, key)\n",
    "print(\"Decrypted Message:\", decryptedMessage)"
   ]
  },
  {
   "cell_type": "code",
   "execution_count": null,
   "metadata": {},
   "outputs": [],
   "source": []
  }
 ],
 "metadata": {
  "kernelspec": {
   "display_name": "Python 3",
   "language": "python",
   "name": "python3"
  },
  "language_info": {
   "codemirror_mode": {
    "name": "ipython",
    "version": 3
   },
   "file_extension": ".py",
   "mimetype": "text/x-python",
   "name": "python",
   "nbconvert_exporter": "python",
   "pygments_lexer": "ipython3",
   "version": "3.6.5"
  }
 },
 "nbformat": 4,
 "nbformat_minor": 2
}

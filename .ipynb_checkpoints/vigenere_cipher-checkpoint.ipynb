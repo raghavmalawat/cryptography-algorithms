{
 "cells": [
  {
   "cell_type": "markdown",
   "metadata": {},
   "source": [
    "# Vigenere Cipher"
   ]
  },
  {
   "cell_type": "code",
   "execution_count": 6,
   "metadata": {},
   "outputs": [
    {
     "name": "stdout",
     "output_type": "stream",
     "text": [
      "{'a': 0, 'b': 1, 'c': 2, 'd': 3, 'e': 4, 'f': 5, 'g': 6, 'h': 7, 'i': 8, 'j': 9, 'k': 10, 'l': 11, 'm': 12, 'n': 13, 'o': 14, 'p': 15, 'q': 16, 'r': 17, 's': 18, 't': 19, 'u': 20, 'v': 21, 'w': 22, 'x': 23, 'y': 24, 'z': 25}\n",
      "\n",
      "{0: 'a', 1: 'b', 2: 'c', 3: 'd', 4: 'e', 5: 'f', 6: 'g', 7: 'h', 8: 'i', 9: 'j', 10: 'k', 11: 'l', 12: 'm', 13: 'n', 14: 'o', 15: 'p', 16: 'q', 17: 'r', 18: 's', 19: 't', 20: 'u', 21: 'v', 22: 'w', 23: 'x', 24: 'y', 25: 'z'}\n"
     ]
    }
   ],
   "source": [
    "alphabets = \"abcdefghijklmnopqrstuvwxyz\"\n",
    "alphabetToNumericDict = {alphabets[x]:x for x in range(26)}\n",
    "numericToAlphabetDict = {x:alphabets[x] for x in range(26)}\n",
    "\n",
    "print(alphabetToNumericDict)\n",
    "print()\n",
    "print(numericToAlphabetDict)\n",
    "\n",
    "vigenereSquare = [list(\"ABCDEFGHIJKLMNOPQRSTUVWXYZ\")]\n",
    "\n",
    "for _ in range(25):\n",
    "    vigenereSquare.append(vigenereSquare[-1][1:]+[vigenereSquare[-1][0]])"
   ]
  },
  {
   "cell_type": "markdown",
   "metadata": {},
   "source": [
    "# Encryption Function"
   ]
  },
  {
   "cell_type": "code",
   "execution_count": 7,
   "metadata": {},
   "outputs": [],
   "source": [
    "def vigenere_encrypt(plainText, key):\n",
    "    plainText = plainText.lower()\n",
    "    key = key.lower()\n",
    "    keyIndex = 0\n",
    "    cipherText = \"\"\n",
    "    \n",
    "    for letter in plainText:\n",
    "        if not letter.isalpha():\n",
    "            cipherText += letter\n",
    "            continue\n",
    "        row = alphabetToNumericDict[key[keyIndex]]\n",
    "        cipherText += vigenereSquare[row][alphabetToNumericDict[letter]]\n",
    "        \n",
    "        keyIndex += 1\n",
    "        if keyIndex >= len(key):\n",
    "            keyIndex = 0\n",
    "            \n",
    "    return cipherText.upper()"
   ]
  },
  {
   "cell_type": "markdown",
   "metadata": {},
   "source": [
    "# Decryption Function"
   ]
  },
  {
   "cell_type": "code",
   "execution_count": 8,
   "metadata": {},
   "outputs": [],
   "source": [
    "def vigenere_decrypt(cipherText, key):\n",
    "    cipherText = cipherText.lower()\n",
    "    key = key.lower()\n",
    "    keyIndex = 0\n",
    "    plainText = \"\"\n",
    "    \n",
    "    for letter in cipherText:\n",
    "        if not letter.isalpha():\n",
    "            plainText += letter\n",
    "            continue\n",
    "        row = alphabetToNumericDict[key[keyIndex]]\n",
    "        plainText += numericToAlphabetDict[vigenereSquare[row].index(letter.upper())]\n",
    "        \n",
    "        keyIndex += 1\n",
    "        if keyIndex >= len(key):\n",
    "            keyIndex = 0\n",
    "        \n",
    "    return plainText"
   ]
  },
  {
   "cell_type": "markdown",
   "metadata": {},
   "source": [
    "# Output"
   ]
  },
  {
   "cell_type": "code",
   "execution_count": 9,
   "metadata": {},
   "outputs": [
    {
     "name": "stdout",
     "output_type": "stream",
     "text": [
      "Message: attack at dawn\n",
      "Secret Key: lemon\n",
      "Encrypted Message: LXFOPV EF RNHR\n",
      "Decrypted Message: attack at dawn\n"
     ]
    }
   ],
   "source": [
    "message = \"attack at dawn\"\n",
    "secretKey = \"lemon\"\n",
    "encryptedMessage = vigenere_encrypt(message, secretKey)\n",
    "decryptedMessage = vigenere_decrypt(encryptedMessage, secretKey)\n",
    "\n",
    "print(\"Message:\", message)\n",
    "print(\"Secret Key:\", secretKey)\n",
    "print(\"Encrypted Message:\", encryptedMessage)\n",
    "print(\"Decrypted Message:\", decryptedMessage)"
   ]
  },
  {
   "cell_type": "code",
   "execution_count": 10,
   "metadata": {},
   "outputs": [
    {
     "name": "stdout",
     "output_type": "stream",
     "text": [
      "Message: Yes! This is working.\n",
      "Secret Key: helloworld\n",
      "Encrypted Message: FID! EVEG ZD ZVVVTBC.\n",
      "Decrypted Message: yes! this is working.\n"
     ]
    }
   ],
   "source": [
    "message = \"Yes! This is working.\"\n",
    "secretKey = \"helloworld\"\n",
    "encryptedMessage = vigenere_encrypt(message, secretKey)\n",
    "decryptedMessage = vigenere_decrypt(encryptedMessage, secretKey)\n",
    "\n",
    "print(\"Message:\", message)\n",
    "print(\"Secret Key:\", secretKey)\n",
    "print(\"Encrypted Message:\", encryptedMessage)\n",
    "print(\"Decrypted Message:\", decryptedMessage)"
   ]
  },
  {
   "cell_type": "code",
   "execution_count": null,
   "metadata": {},
   "outputs": [],
   "source": []
  }
 ],
 "metadata": {
  "kernelspec": {
   "display_name": "Python 3",
   "language": "python",
   "name": "python3"
  },
  "language_info": {
   "codemirror_mode": {
    "name": "ipython",
    "version": 3
   },
   "file_extension": ".py",
   "mimetype": "text/x-python",
   "name": "python",
   "nbconvert_exporter": "python",
   "pygments_lexer": "ipython3",
   "version": "3.6.5"
  }
 },
 "nbformat": 4,
 "nbformat_minor": 2
}
